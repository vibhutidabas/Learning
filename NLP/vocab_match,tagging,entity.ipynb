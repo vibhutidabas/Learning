{
  "nbformat": 4,
  "nbformat_minor": 0,
  "metadata": {
    "colab": {
      "name": "vocab_match,tagging,entity.ipynb",
      "provenance": [],
      "collapsed_sections": [],
      "authorship_tag": "ABX9TyPqft/DSuIPVznMHsYR7SoJ",
      "include_colab_link": true
    },
    "kernelspec": {
      "name": "python3",
      "display_name": "Python 3"
    },
    "language_info": {
      "name": "python"
    }
  },
  "cells": [
    {
      "cell_type": "markdown",
      "metadata": {
        "id": "view-in-github",
        "colab_type": "text"
      },
      "source": [
        "<a href=\"https://colab.research.google.com/github/vibhutidabas/Learning/blob/main/NLP/vocab_match%2Ctagging%2Centity.ipynb\" target=\"_parent\"><img src=\"https://colab.research.google.com/assets/colab-badge.svg\" alt=\"Open In Colab\"/></a>"
      ]
    },
    {
      "cell_type": "markdown",
      "source": [
        "rule based matching"
      ],
      "metadata": {
        "id": "KoiUftSxt9fN"
      }
    },
    {
      "cell_type": "code",
      "execution_count": null,
      "metadata": {
        "id": "IQIvT61tCuzM"
      },
      "outputs": [],
      "source": [
        "import spacy\n",
        "nlp = spacy.load('en_core_web_sm')"
      ]
    },
    {
      "cell_type": "code",
      "source": [
        "from spacy.matcher import Matcher\n",
        "matcher = Matcher(nlp.vocab)"
      ],
      "metadata": {
        "id": "u6qyKQU9uKR6"
      },
      "execution_count": null,
      "outputs": []
    },
    {
      "cell_type": "code",
      "source": [
        "# creating matchers\n",
        "p1 = [{'LOWER':'hello'},{'LOWER':'world'}]\n",
        "p2 = [{'LOWER':'hello'},{'IS_PUNCT':True},{'LOWER':'world'}]"
      ],
      "metadata": {
        "id": "QhFPuB24ufer"
      },
      "execution_count": null,
      "outputs": []
    },
    {
      "cell_type": "code",
      "source": [
        "matcher.add(\"Hello World\", None, p1,p2)"
      ],
      "metadata": {
        "id": "RLZ-xIynvBZJ"
      },
      "execution_count": null,
      "outputs": []
    },
    {
      "cell_type": "code",
      "source": [
        "doc = nlp(\"'Hello World' are the first two most printed words for many programmers, prnting 'Hello-World' is nice.\")\n",
        "find_matches = matcher(doc)\n",
        "find_matches"
      ],
      "metadata": {
        "colab": {
          "base_uri": "https://localhost:8080/"
        },
        "id": "aGxUUT-RwHNE",
        "outputId": "1ff1af53-b562-490a-f251-dcb93cfc34c6"
      },
      "execution_count": null,
      "outputs": [
        {
          "output_type": "execute_result",
          "data": {
            "text/plain": [
              "[(8585552006568828647, 1, 3), (8585552006568828647, 17, 20)]"
            ]
          },
          "metadata": {},
          "execution_count": 5
        }
      ]
    },
    {
      "cell_type": "code",
      "source": [
        "for match_id, start, end in find_matches:\n",
        "  string_id = nlp.vocab.strings[match_id]\n",
        "  span = doc[start:end]\n",
        "  print(match_id, string_id, start, end, span.text)"
      ],
      "metadata": {
        "colab": {
          "base_uri": "https://localhost:8080/"
        },
        "id": "f_L8mM29wpnZ",
        "outputId": "4d4ff2d6-f35a-45db-c7b1-5d803e444723"
      },
      "execution_count": null,
      "outputs": [
        {
          "output_type": "stream",
          "name": "stdout",
          "text": [
            "8585552006568828647 Hello World 1 3 Hello World\n",
            "8585552006568828647 Hello World 17 20 Hello-World\n"
          ]
        }
      ]
    },
    {
      "cell_type": "markdown",
      "source": [
        "phrase matching"
      ],
      "metadata": {
        "id": "GSmq9a5veo0r"
      }
    },
    {
      "cell_type": "code",
      "source": [
        "from spacy.matcher import PhraseMatcher\n",
        "pmatcher = PhraseMatcher(nlp.vocab)"
      ],
      "metadata": {
        "id": "OEU1LbS6xn8g"
      },
      "execution_count": null,
      "outputs": []
    },
    {
      "cell_type": "code",
      "source": [
        "phrase_list = [\"Barack Obama\", \"Angela Merkel\", \"Washington, D.C.\"]\n",
        "phrase_pattern = [nlp(text) for text in phrase_list]\n",
        "phrase_pattern"
      ],
      "metadata": {
        "colab": {
          "base_uri": "https://localhost:8080/"
        },
        "id": "tGRwT3N7gxMJ",
        "outputId": "14c10047-eb6a-4801-d71b-8fb2ab7ba933"
      },
      "execution_count": null,
      "outputs": [
        {
          "output_type": "execute_result",
          "data": {
            "text/plain": [
              "[Barack Obama, Angela Merkel, Washington, D.C.]"
            ]
          },
          "metadata": {},
          "execution_count": 8
        }
      ]
    },
    {
      "cell_type": "code",
      "source": [
        "type(phrase_pattern[0])"
      ],
      "metadata": {
        "colab": {
          "base_uri": "https://localhost:8080/"
        },
        "id": "jnvX7hGvhYw8",
        "outputId": "7fc36a5d-ad92-4e89-8fde-3cbfc9263410"
      },
      "execution_count": null,
      "outputs": [
        {
          "output_type": "execute_result",
          "data": {
            "text/plain": [
              "spacy.tokens.doc.Doc"
            ]
          },
          "metadata": {},
          "execution_count": 9
        }
      ]
    },
    {
      "cell_type": "code",
      "source": [
        "pmatcher.add('TerminologyList', None, *phrase_pattern)\n",
        "doc2 = nlp(\"German Chancellor Angela Merkel and US President Barack Obama converse in the Oval Office inside the White House in Washington, D.C.\")"
      ],
      "metadata": {
        "id": "5mg7kRyyh4Bz"
      },
      "execution_count": null,
      "outputs": []
    },
    {
      "cell_type": "code",
      "source": [
        "find_match = pmatcher(doc2)\n",
        "find_match"
      ],
      "metadata": {
        "colab": {
          "base_uri": "https://localhost:8080/"
        },
        "id": "YwoWiZF0khlM",
        "outputId": "5e17b76d-509f-4656-e773-65005e5f8c9c"
      },
      "execution_count": null,
      "outputs": [
        {
          "output_type": "execute_result",
          "data": {
            "text/plain": [
              "[(3766102292120407359, 2, 4),\n",
              " (3766102292120407359, 7, 9),\n",
              " (3766102292120407359, 19, 22)]"
            ]
          },
          "metadata": {},
          "execution_count": 11
        }
      ]
    },
    {
      "cell_type": "code",
      "source": [
        "for match_id, start, end in find_match:\n",
        "  string_id = nlp.vocab.strings[match_id]\n",
        "  span = doc2[start:end]\n",
        "  print(match_id, string_id, start, end, span.text)"
      ],
      "metadata": {
        "colab": {
          "base_uri": "https://localhost:8080/"
        },
        "id": "mxNvV456kwTY",
        "outputId": "878b4ddd-4ece-461a-f79e-2dd3fae155c1"
      },
      "execution_count": null,
      "outputs": [
        {
          "output_type": "stream",
          "name": "stdout",
          "text": [
            "3766102292120407359 TerminologyList 2 4 Angela Merkel\n",
            "3766102292120407359 TerminologyList 7 9 Barack Obama\n",
            "3766102292120407359 TerminologyList 19 22 Washington, D.C.\n"
          ]
        }
      ]
    },
    {
      "cell_type": "markdown",
      "source": [
        "POS TAGGING"
      ],
      "metadata": {
        "id": "2AjHk4SNlixl"
      }
    },
    {
      "cell_type": "code",
      "source": [
        "s1 = \"Apple is looking at buying U.K. startup for $1 billion\"\n",
        "d = nlp(s1)\n",
        "for token in d:\n",
        "  print(token.text, token.pos_)"
      ],
      "metadata": {
        "colab": {
          "base_uri": "https://localhost:8080/"
        },
        "id": "LJek_sIulHxb",
        "outputId": "0813a5c9-30e6-4377-ad17-9cc446af0c23"
      },
      "execution_count": null,
      "outputs": [
        {
          "output_type": "stream",
          "name": "stdout",
          "text": [
            "Apple PROPN\n",
            "is AUX\n",
            "looking VERB\n",
            "at ADP\n",
            "buying VERB\n",
            "U.K. PROPN\n",
            "startup NOUN\n",
            "for ADP\n",
            "$ SYM\n",
            "1 NUM\n",
            "billion NUM\n"
          ]
        }
      ]
    },
    {
      "cell_type": "code",
      "source": [
        "for key, val in d.count_by(spacy.attrs.POS).items():\n",
        "  print(key, d.vocab[key].text, val)"
      ],
      "metadata": {
        "colab": {
          "base_uri": "https://localhost:8080/"
        },
        "id": "9FGIpKRrpFpt",
        "outputId": "4e7f65e8-a22a-4e7d-82fe-574a6b0efd03"
      },
      "execution_count": null,
      "outputs": [
        {
          "output_type": "stream",
          "name": "stdout",
          "text": [
            "96 PROPN 2\n",
            "87 AUX 1\n",
            "100 VERB 2\n",
            "85 ADP 2\n",
            "92 NOUN 1\n",
            "99 SYM 1\n",
            "93 NUM 2\n"
          ]
        }
      ]
    },
    {
      "cell_type": "markdown",
      "source": [
        "NAMED ENTITY RECOGN."
      ],
      "metadata": {
        "id": "od_qp-9mqJ26"
      }
    },
    {
      "cell_type": "code",
      "source": [
        "r1 = \"Apple is looking at buying U.K. startup for $1 billion\"\n",
        "r2 = \"San Francisco considers banning sidewalk delivery robots\"\n",
        "r3 = \"Facebook is hiring a new vice president in U.S.\""
      ],
      "metadata": {
        "id": "voaf8CRXqJh4"
      },
      "execution_count": null,
      "outputs": []
    },
    {
      "cell_type": "code",
      "source": [
        "d3 = nlp(r3)\n",
        "for ent in d3.ents:\n",
        "  print(ent.text, ent.label_)"
      ],
      "metadata": {
        "colab": {
          "base_uri": "https://localhost:8080/"
        },
        "id": "3_xc6h3lqCYt",
        "outputId": "6eb4870b-9299-4004-ae35-6006cc2173f4"
      },
      "execution_count": null,
      "outputs": [
        {
          "output_type": "stream",
          "name": "stdout",
          "text": [
            "U.S. GPE\n"
          ]
        }
      ]
    },
    {
      "cell_type": "code",
      "source": [
        "from spacy.tokens import Span\n",
        "ORG = d3.vocab.strings['ORG']\n",
        "new_ent = Span(d3, 0, 1, label=ORG)\n",
        "d3.ents = list(d3.ents)+[new_ent]"
      ],
      "metadata": {
        "id": "_MBd-wCIq8tZ"
      },
      "execution_count": null,
      "outputs": []
    },
    {
      "cell_type": "code",
      "source": [
        "for ent in d3.ents:\n",
        "  print(ent.text, ent.label_)"
      ],
      "metadata": {
        "colab": {
          "base_uri": "https://localhost:8080/"
        },
        "id": "GWu6M6PTr3mz",
        "outputId": "7a02e824-ddaa-4001-9911-d530f0af9cc8"
      },
      "execution_count": null,
      "outputs": [
        {
          "output_type": "stream",
          "name": "stdout",
          "text": [
            "Facebook ORG\n",
            "U.S. GPE\n"
          ]
        }
      ]
    },
    {
      "cell_type": "code",
      "source": [
        "d1 = nlp(r1)\n",
        "from spacy import displacy\n",
        "displacy.render(docs = d1, style = 'ent', jupyter=True)"
      ],
      "metadata": {
        "colab": {
          "base_uri": "https://localhost:8080/",
          "height": 52
        },
        "id": "tLUrNlgYsKXM",
        "outputId": "970aa75a-ed39-4ac5-9bf8-15cc5466aa85"
      },
      "execution_count": null,
      "outputs": [
        {
          "output_type": "display_data",
          "data": {
            "text/html": [
              "<span class=\"tex2jax_ignore\"><div class=\"entities\" style=\"line-height: 2.5; direction: ltr\">\n",
              "<mark class=\"entity\" style=\"background: #7aecec; padding: 0.45em 0.6em; margin: 0 0.25em; line-height: 1; border-radius: 0.35em;\">\n",
              "    Apple\n",
              "    <span style=\"font-size: 0.8em; font-weight: bold; line-height: 1; border-radius: 0.35em; text-transform: uppercase; vertical-align: middle; margin-left: 0.5rem\">ORG</span>\n",
              "</mark>\n",
              " is looking at buying \n",
              "<mark class=\"entity\" style=\"background: #feca74; padding: 0.45em 0.6em; margin: 0 0.25em; line-height: 1; border-radius: 0.35em;\">\n",
              "    U.K.\n",
              "    <span style=\"font-size: 0.8em; font-weight: bold; line-height: 1; border-radius: 0.35em; text-transform: uppercase; vertical-align: middle; margin-left: 0.5rem\">GPE</span>\n",
              "</mark>\n",
              " startup for \n",
              "<mark class=\"entity\" style=\"background: #e4e7d2; padding: 0.45em 0.6em; margin: 0 0.25em; line-height: 1; border-radius: 0.35em;\">\n",
              "    $1 billion\n",
              "    <span style=\"font-size: 0.8em; font-weight: bold; line-height: 1; border-radius: 0.35em; text-transform: uppercase; vertical-align: middle; margin-left: 0.5rem\">MONEY</span>\n",
              "</mark>\n",
              "</div></span>"
            ],
            "text/plain": [
              "<IPython.core.display.HTML object>"
            ]
          },
          "metadata": {}
        }
      ]
    },
    {
      "cell_type": "code",
      "source": [
        "import nltk\n",
        "from nltk.tokenize import word_tokenize\n",
        "from nltk.tag import pos_tag\n",
        "nltk.download('punkt')\n",
        "nltk.download('averaged_perceptron_tagger')"
      ],
      "metadata": {
        "id": "Z9uIuqeWwla-",
        "colab": {
          "base_uri": "https://localhost:8080/"
        },
        "outputId": "ed423710-a353-4993-e347-dbbd55ac8e8d"
      },
      "execution_count": null,
      "outputs": [
        {
          "output_type": "stream",
          "name": "stdout",
          "text": [
            "[nltk_data] Downloading package punkt to /root/nltk_data...\n",
            "[nltk_data]   Package punkt is already up-to-date!\n",
            "[nltk_data] Downloading package averaged_perceptron_tagger to\n",
            "[nltk_data]     /root/nltk_data...\n",
            "[nltk_data]   Unzipping taggers/averaged_perceptron_tagger.zip.\n"
          ]
        },
        {
          "output_type": "execute_result",
          "data": {
            "text/plain": [
              "True"
            ]
          },
          "metadata": {},
          "execution_count": 34
        }
      ]
    },
    {
      "cell_type": "code",
      "source": [
        "r = \"My phone number is: 9667325067\"\n",
        "sent = nltk.word_tokenize(r)\n",
        "sent = nltk.pos_tag(sent)\n",
        "sent"
      ],
      "metadata": {
        "colab": {
          "base_uri": "https://localhost:8080/"
        },
        "id": "5i2rQ31sSjBF",
        "outputId": "915e1572-f9de-49d2-f075-d38400730082"
      },
      "execution_count": null,
      "outputs": [
        {
          "output_type": "execute_result",
          "data": {
            "text/plain": [
              "[('My', 'PRP$'),\n",
              " ('phone', 'NN'),\n",
              " ('number', 'NN'),\n",
              " ('is', 'VBZ'),\n",
              " (':', ':'),\n",
              " ('9667325067', 'CD')]"
            ]
          },
          "metadata": {},
          "execution_count": 35
        }
      ]
    },
    {
      "cell_type": "code",
      "source": [
        ""
      ],
      "metadata": {
        "id": "_SV6b2HFTVmy"
      },
      "execution_count": null,
      "outputs": []
    }
  ]
}