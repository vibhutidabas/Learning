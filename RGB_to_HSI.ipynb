{
  "cells": [
    {
      "cell_type": "markdown",
      "metadata": {},
      "source": [
        "IMPORTING LIBRARIES"
      ]
    },
    {
      "cell_type": "code",
      "execution_count": 2,
      "metadata": {},
      "outputs": [],
      "source": [
        "import numpy as np\n",
        "import matplotlib.pyplot as plt\n",
        "\n",
        "# !pip install spectral\n",
        "import mat73\n",
        "from tensorflow import keras\n",
        "from tensorflow.keras import datasets, layers, models"
      ]
    },
    {
      "cell_type": "markdown",
      "metadata": {},
      "source": [
        "LOADING DATA"
      ]
    },
    {
      "cell_type": "code",
      "execution_count": 3,
      "metadata": {},
      "outputs": [],
      "source": [
        "data_dict = {\n",
        "        'data':('data (1).mat','data (2).mat','data (3).mat','data (4).mat','data (6).mat','data (7).mat','data (8).mat','data (9).mat','data (10).mat','data (11).mat',)\n",
        "    }\n",
        "P= data_dict.get('data')"
      ]
    },
    {
      "attachments": {},
      "cell_type": "markdown",
      "metadata": {},
      "source": [
        "SEPERATING BANDS"
      ]
    },
    {
      "cell_type": "code",
      "execution_count": 4,
      "metadata": {},
      "outputs": [],
      "source": [
        "band1,band2,band3,band4,band5,band6,band7,band8,band9,band10,band11,band12,band13,band14,band15,band16,band17,band18,band19,band20,band21,band22,band23,band24,band25,band26,band27,band28,band29,band30,band31=[],[],[],[],[],[],[],[],[],[],[],[],[],[],[],[],[],[],[],[],[],[],[],[],[],[],[],[],[],[],[]\n"
      ]
    },
    {
      "cell_type": "code",
      "execution_count": 5,
      "metadata": {},
      "outputs": [],
      "source": [
        "for i in P:\n",
        "    file=np.resize(mat73.loadmat(i)['rad'],(400,400,31))\n",
        "    bt1,bt2,bt3,bt4,bt5,bt6,bt7,bt8,bt9,bt10=[],[],[],[],[],[],[],[],[],[]\n",
        "    for j in range(400):\n",
        "        b1,b2,b3,b4,b5,b6,b7,b8,b9,b10=[],[],[],[],[],[],[],[],[],[]\n",
        "        for k in range(400):\n",
        "            b1.append([file[j][k][0]])\n",
        "            b2.append([file[j][k][1]])\n",
        "            b3.append([file[j][k][2]])\n",
        "            b4.append([file[j][k][3]])\n",
        "            b5.append([file[j][k][4]])\n",
        "            b6.append([file[j][k][5]])\n",
        "            b7.append([file[j][k][6]])\n",
        "            b8.append([file[j][k][7]])\n",
        "            b9.append([file[j][k][8]])\n",
        "            b10.append([file[j][k][9]])\n",
        "        bt1.append(b1)\n",
        "        bt2.append(b2)\n",
        "        bt3.append(b3)\n",
        "        bt4.append(b4)\n",
        "        bt5.append(b5)\n",
        "        bt6.append(b6)\n",
        "        bt7.append(b7)\n",
        "        bt8.append(b8)\n",
        "        bt9.append(b9)\n",
        "        bt10.append(b10)\n",
        "    band1.append(bt1)\n",
        "    band2.append(bt2)\n",
        "    band3.append(bt3)\n",
        "    band4.append(bt4)\n",
        "    band5.append(bt5)\n",
        "    band6.append(bt6)\n",
        "    band7.append(bt7)\n",
        "    band8.append(bt8)\n",
        "    band9.append(bt9)\n",
        "    band10.append(bt10)\n",
        "\n",
        "band1 =np.array(band1)\n",
        "band2 =np.array(band2)\n",
        "band3 =np.array(band3)\n",
        "band4 =np.array(band4)\n",
        "band5 =np.array(band5)\n",
        "band6 =np.array(band6)\n",
        "band7 =np.array(band7)\n",
        "band8 =np.array(band8)\n",
        "band9 =np.array(band9)\n",
        "band10 =np.array(band10)\n"
      ]
    },
    {
      "cell_type": "code",
      "execution_count": null,
      "metadata": {},
      "outputs": [],
      "source": [
        "for i in P:\n",
        "    file=np.resize(mat73.loadmat(i)['rad'],(500,500,31))\n",
        "    bt1,bt2,bt3,bt4,bt5,bt6,bt7,bt8,bt9,bt10=[],[],[],[],[],[],[],[],[],[]\n",
        "    for j in range(64):\n",
        "        b1,b2,b3,b4,b5,b6,b7,b8,b9,b10=[],[],[],[],[],[],[],[],[],[]\n",
        "        for k in range(64):\n",
        "            b1.append([file[j][k][0]])\n",
        "            b2.append([file[j][k][1]])\n",
        "            b3.append([file[j][k][2]])\n",
        "            b4.append([file[j][k][3]])\n",
        "            b5.append([file[j][k][4]])\n",
        "            b6.append([file[j][k][5]])\n",
        "            b7.append([file[j][k][6]])\n",
        "            b8.append([file[j][k][7]])\n",
        "            b9.append([file[j][k][8]])\n",
        "            b10.append([file[j][k][9]])\n",
        "        bt1.append(b1)\n",
        "        bt2.append(b2)\n",
        "        bt3.append(b3)\n",
        "        bt4.append(b4)\n",
        "        bt5.append(b5)\n",
        "        bt6.append(b6)\n",
        "        bt7.append(b7)\n",
        "        bt8.append(b8)\n",
        "        bt9.append(b9)\n",
        "        bt10.append(b10)\n",
        "    band1.append(bt1)\n",
        "    band2.append(bt2)\n",
        "    band3.append(bt3)\n",
        "    band4.append(bt4)\n",
        "    band5.append(bt5)\n",
        "    band6.append(bt6)\n",
        "    band7.append(bt7)\n",
        "    band8.append(bt8)\n",
        "    band9.append(bt9)\n",
        "    band10.append(bt10)\n",
        "\n",
        "band1 =np.array(band1)\n",
        "band2 =np.array(band2)\n",
        "band3 =np.array(band3)\n",
        "band4 =np.array(band4)\n",
        "band5 =np.array(band5)\n",
        "band6 =np.array(band6)\n",
        "band7 =np.array(band7)\n",
        "band8 =np.array(band8)\n",
        "band9 =np.array(band9)\n",
        "band10 =np.array(band10)\n"
      ]
    },
    {
      "cell_type": "code",
      "execution_count": 6,
      "metadata": {},
      "outputs": [
        {
          "data": {
            "text/plain": [
              "(10, 400, 400, 1)"
            ]
          },
          "execution_count": 6,
          "metadata": {},
          "output_type": "execute_result"
        }
      ],
      "source": [
        "band1.shape"
      ]
    },
    {
      "cell_type": "code",
      "execution_count": 7,
      "metadata": {},
      "outputs": [
        {
          "data": {
            "text/plain": [
              "(10, 1, 400, 400, 1)"
            ]
          },
          "execution_count": 7,
          "metadata": {},
          "output_type": "execute_result"
        }
      ],
      "source": [
        "b=band3\n",
        "b=np.expand_dims(b,axis=1)\n",
        "b.shape"
      ]
    },
    {
      "cell_type": "code",
      "execution_count": 8,
      "metadata": {},
      "outputs": [
        {
          "data": {
            "text/plain": [
              "(10, 1, 400, 400, 1)"
            ]
          },
          "execution_count": 8,
          "metadata": {},
          "output_type": "execute_result"
        }
      ],
      "source": [
        "b2=band4\n",
        "b2=np.expand_dims(b2,axis=1)\n",
        "b2.shape"
      ]
    },
    {
      "cell_type": "code",
      "execution_count": 9,
      "metadata": {},
      "outputs": [],
      "source": [
        "l_rgb,l_rad,l_rgb2=[],[],[]\n",
        "for i in P:\n",
        "    x_1=np.expand_dims(np.resize(mat73.loadmat(i)['rgb'],(400,400,3)), axis=0)\n",
        "    x_2=np.resize(mat73.loadmat(i)['rgb'],(400,400,3))\n",
        "    y_1=np.expand_dims(np.resize(mat73.loadmat(i)['rad'],(400,400,31)), axis=0)\n",
        "    l_rgb.append(x_1)\n",
        "    l_rgb2.append(x_2)\n",
        "    l_rad.append(y_1)\n",
        "\n",
        "l_rgb=np.array(l_rgb)\n",
        "l_rad=np.array(l_rad)\n",
        "\n",
        "l_rgb2=np.array(l_rgb2)\n",
        "# l_rad2=np.array(l_rad2)"
      ]
    },
    {
      "cell_type": "code",
      "execution_count": 10,
      "metadata": {},
      "outputs": [
        {
          "data": {
            "text/plain": [
              "((10, 1, 400, 400, 3), (10, 1, 400, 400, 31), (10, 400, 400, 3))"
            ]
          },
          "execution_count": 10,
          "metadata": {},
          "output_type": "execute_result"
        }
      ],
      "source": [
        "l_rgb.shape, l_rad.shape, l_rgb2.shape"
      ]
    },
    {
      "cell_type": "code",
      "execution_count": 11,
      "metadata": {},
      "outputs": [
        {
          "data": {
            "text/plain": [
              "(10, 1, 400, 400, 3)"
            ]
          },
          "execution_count": 11,
          "metadata": {},
          "output_type": "execute_result"
        }
      ],
      "source": [
        "l=l_rgb2\n",
        "l=np.expand_dims(l,axis=1)\n",
        "l.shape"
      ]
    },
    {
      "cell_type": "markdown",
      "metadata": {},
      "source": [
        "TEST DATA"
      ]
    },
    {
      "cell_type": "code",
      "execution_count": 12,
      "metadata": {},
      "outputs": [
        {
          "data": {
            "text/plain": [
              "(1, 1, 400, 400, 3)"
            ]
          },
          "execution_count": 12,
          "metadata": {},
          "output_type": "execute_result"
        }
      ],
      "source": [
        "test_rgb=np.resize(mat73.loadmat('data (5).mat')['rgb'], (400,400,3))\n",
        "test_rgb = np.expand_dims(test_rgb, axis=0) \n",
        "test_rgb = np.expand_dims(test_rgb, axis=0) \n",
        "test_rgb.shape"
      ]
    },
    {
      "cell_type": "code",
      "execution_count": 13,
      "metadata": {},
      "outputs": [
        {
          "data": {
            "text/plain": [
              "(400, 400, 31)"
            ]
          },
          "execution_count": 13,
          "metadata": {},
          "output_type": "execute_result"
        }
      ],
      "source": [
        "test=mat73.loadmat('data (5).mat')['rad']\n",
        "test=np.resize(test,(400,400,31))\n",
        "# test = np.expand_dims(test, axis=0) \n",
        "# test = np.expand_dims(test, axis=0) \n",
        "test.shape\n"
      ]
    },
    {
      "cell_type": "code",
      "execution_count": 14,
      "metadata": {},
      "outputs": [
        {
          "data": {
            "text/plain": [
              "(400, 400, 1)"
            ]
          },
          "execution_count": 14,
          "metadata": {},
          "output_type": "execute_result"
        }
      ],
      "source": [
        "test_band1=[]\n",
        "for i in range(400):\n",
        "    test1=[]\n",
        "    for j in range(400):\n",
        "        test1.append([test[i][j][3]])\n",
        "    \n",
        "    test_band1.append(test1)\n",
        "\n",
        "test_band1=np.array(test_band1)\n",
        "test_band1.shape  "
      ]
    },
    {
      "cell_type": "code",
      "execution_count": 15,
      "metadata": {},
      "outputs": [
        {
          "data": {
            "text/plain": [
              "array([[[189.   ],\n",
              "        [190.375],\n",
              "        [234.875],\n",
              "        ...,\n",
              "        [223.875],\n",
              "        [217.125],\n",
              "        [212.125]],\n",
              "\n",
              "       [[208.5  ],\n",
              "        [210.   ],\n",
              "        [210.   ],\n",
              "        ...,\n",
              "        [211.75 ],\n",
              "        [211.25 ],\n",
              "        [211.125]],\n",
              "\n",
              "       [[210.625],\n",
              "        [207.125],\n",
              "        [205.25 ],\n",
              "        ...,\n",
              "        [709.75 ],\n",
              "        [724.625],\n",
              "        [731.125]],\n",
              "\n",
              "       ...,\n",
              "\n",
              "       [[235.125],\n",
              "        [234.125],\n",
              "        [234.5  ],\n",
              "        ...,\n",
              "        [198.875],\n",
              "        [201.125],\n",
              "        [201.375]],\n",
              "\n",
              "       [[201.5  ],\n",
              "        [203.75 ],\n",
              "        [203.875],\n",
              "        ...,\n",
              "        [248.75 ],\n",
              "        [233.5  ],\n",
              "        [218.125]],\n",
              "\n",
              "       [[211.25 ],\n",
              "        [210.   ],\n",
              "        [209.625],\n",
              "        ...,\n",
              "        [212.625],\n",
              "        [213.375],\n",
              "        [215.625]]])"
            ]
          },
          "execution_count": 15,
          "metadata": {},
          "output_type": "execute_result"
        }
      ],
      "source": [
        "test_band1"
      ]
    },
    {
      "cell_type": "code",
      "execution_count": 53,
      "metadata": {},
      "outputs": [
        {
          "name": "stdout",
          "output_type": "stream",
          "text": [
            "(3, 2, 4)\n"
          ]
        }
      ],
      "source": [
        "m=[[[1,1,1,1],\n",
        "    [1,1,1,1]],\n",
        "    \n",
        "    [[2,2,2,2],\n",
        "    [2,2,2,2]],   \n",
        "    \n",
        "    [[3,3,3,3],\n",
        "    [3,3,3,3]]]\n",
        "\n",
        "m=np.array(m)\n",
        "# m=np.expand_dims(m,axis=0)\n",
        "print(m.shape)"
      ]
    },
    {
      "cell_type": "code",
      "execution_count": 55,
      "metadata": {},
      "outputs": [
        {
          "data": {
            "text/plain": [
              "(3, 2, 1)"
            ]
          },
          "execution_count": 55,
          "metadata": {},
          "output_type": "execute_result"
        }
      ],
      "source": [
        "ni=[]\n",
        "for i in range(3):\n",
        "    ni_i=[]\n",
        "    for j in range(2):\n",
        "        ni_i.append([m[i][j][0]])  \n",
        "    ni.append(ni_i)\n",
        "ni=np.array(ni)\n",
        "ni.shape"
      ]
    },
    {
      "cell_type": "code",
      "execution_count": 17,
      "metadata": {},
      "outputs": [
        {
          "data": {
            "text/plain": [
              "(1300, 1392)"
            ]
          },
          "execution_count": 17,
          "metadata": {},
          "output_type": "execute_result"
        }
      ],
      "source": [
        "test_band1=[]\n",
        "for i in range(1400):\n",
        "    test1=[]\n",
        "    for j in range(1392):\n",
        "        test1.append(test_org[i][j][0])\n",
        "    \n",
        "    test_band1.append(test1)\n",
        "\n",
        "test_band1=np.array(test_band1)\n",
        "test_band1.shape       "
      ]
    },
    {
      "cell_type": "markdown",
      "metadata": {},
      "source": [
        "TRAIN DATA"
      ]
    },
    {
      "cell_type": "code",
      "execution_count": 16,
      "metadata": {},
      "outputs": [],
      "source": [
        "# print(x.shape, y.shape)\n",
        "train=l_rgb\n",
        "valid=l_rad"
      ]
    },
    {
      "cell_type": "markdown",
      "metadata": {},
      "source": [
        "INCRESASING DIMENSIONS TO MATCH WITH NETWORK"
      ]
    },
    {
      "cell_type": "code",
      "execution_count": 17,
      "metadata": {},
      "outputs": [
        {
          "name": "stdout",
          "output_type": "stream",
          "text": [
            "(10, 1, 400, 400, 3) (10, 1, 400, 400, 31)\n",
            "(10, 1, 400, 400, 1)\n"
          ]
        }
      ],
      "source": [
        "print(train.shape,valid.shape)\n",
        "print(b.shape)"
      ]
    },
    {
      "cell_type": "markdown",
      "metadata": {},
      "source": [
        "BP-NET"
      ]
    },
    {
      "cell_type": "code",
      "execution_count": 18,
      "metadata": {},
      "outputs": [
        {
          "name": "stdout",
          "output_type": "stream",
          "text": [
            "Model: \"sequential\"\n",
            "_________________________________________________________________\n",
            " Layer (type)                Output Shape              Param #   \n",
            "=================================================================\n",
            " conv3d (Conv3D)             (None, 1, 400, 400, 32)   7232      \n",
            "                                                                 \n",
            " conv3d_1 (Conv3D)           (None, 1, 400, 400, 32)   27680     \n",
            "                                                                 \n",
            " conv3d_2 (Conv3D)           (None, 1, 400, 400, 32)   27680     \n",
            "                                                                 \n",
            " conv3d_3 (Conv3D)           (None, 1, 400, 400, 3)    867       \n",
            "                                                                 \n",
            " conv3d_4 (Conv3D)           (None, 1, 400, 400, 16)   1312      \n",
            "                                                                 \n",
            " conv3d_5 (Conv3D)           (None, 1, 400, 400, 16)   272       \n",
            "                                                                 \n",
            " conv3d_6 (Conv3D)           (None, 1, 400, 400, 1)    17        \n",
            "                                                                 \n",
            "=================================================================\n",
            "Total params: 65,060\n",
            "Trainable params: 65,060\n",
            "Non-trainable params: 0\n",
            "_________________________________________________________________\n"
          ]
        }
      ],
      "source": [
        "from tensorflow import keras\n",
        "from keras.layers import Conv3D\n",
        "from keras.layers import Dense\n",
        "\n",
        "#making the BP-net\n",
        "\n",
        "# cnn = keras.Sequential()\n",
        "# cnn.add(layers.Conv3D(32,(3,5,5), activation='relu', input_shape=(1,500,500,3),padding='same',use_bias=True))\n",
        "# cnn.add(layers.Conv3D(32, 3, activation='relu', input_shape=(32,500,500,3), padding='same', use_bias=True))\n",
        "# cnn.add(layers.Conv3D(31, 3, activation='relu', input_shape=(32,500,500,3), padding='same', use_bias=True))\n",
        "\n",
        "# cnn.add(Conv3D(128,3,input_shape=(32,64,64,3),use_bias=True,padding='same'))  #I will have to make 31 layers for 31 bands\n",
        "\n",
        "bpnet = keras.Sequential()\n",
        "bpnet.add(layers.Conv3D(32,(3,5,5), activation='relu', input_shape=(1,400,400,3), padding='same',use_bias=True))\n",
        "bpnet.add(layers.Conv3D(32, 3,activation='relu',  padding='same', use_bias=True))\n",
        "bpnet.add(layers.Conv3D(32,3, activation='relu', padding='same',use_bias=True))\n",
        "bpnet.add(layers.Conv3D(3, (3,3,1), activation='relu', padding='same', use_bias=True))\n",
        "bpnet.add(layers.Conv3D(16, (3,3,3), activation='relu', padding='same', use_bias=True))\n",
        "bpnet.add(layers.Conv3D(16, 1, activation='relu', padding='same', use_bias=True))\n",
        "bpnet.add(layers.Conv3D(1, 1,activation='relu',  padding='same', use_bias=True))\n",
        "bpnet.summary()\n"
      ]
    },
    {
      "cell_type": "code",
      "execution_count": 19,
      "metadata": {},
      "outputs": [
        {
          "name": "stdout",
          "output_type": "stream",
          "text": [
            "Epoch 1/100\n",
            "1/1 [==============================] - 18s 18s/step - loss: 174737.4062 - PSNR: 3.1110\n",
            "Epoch 2/100\n",
            "1/1 [==============================] - 20s 20s/step - loss: 171861.2344 - PSNR: 3.2057\n",
            "Epoch 3/100\n",
            "1/1 [==============================] - 18s 18s/step - loss: 166873.0000 - PSNR: 3.3763\n",
            "Epoch 4/100\n",
            "1/1 [==============================] - 16s 16s/step - loss: 158914.3750 - PSNR: 3.6634\n",
            "Epoch 5/100\n",
            "1/1 [==============================] - 16s 16s/step - loss: 146727.8125 - PSNR: 4.1476\n",
            "Epoch 6/100\n",
            "1/1 [==============================] - 16s 16s/step - loss: 128857.7656 - PSNR: 4.9917\n",
            "Epoch 7/100\n",
            "1/1 [==============================] - 17s 17s/step - loss: 104380.3516 - PSNR: 6.6309\n",
            "Epoch 8/100\n",
            "1/1 [==============================] - 16s 16s/step - loss: 74121.5625 - PSNR: 10.0882\n",
            "Epoch 9/100\n",
            "1/1 [==============================] - 16s 16s/step - loss: 44848.0664 - PSNR: 13.7675\n",
            "Epoch 10/100\n",
            "1/1 [==============================] - 26s 26s/step - loss: 36632.2344 - PSNR: 15.0568\n",
            "Epoch 11/100\n",
            "1/1 [==============================] - 26s 26s/step - loss: 66586.3516 - PSNR: 12.1456\n",
            "Epoch 12/100\n",
            "1/1 [==============================] - 16s 16s/step - loss: 67394.1641 - PSNR: 12.0665\n",
            "Epoch 13/100\n",
            "1/1 [==============================] - 16s 16s/step - loss: 49389.2852 - PSNR: 13.8042\n",
            "Epoch 14/100\n",
            "1/1 [==============================] - 16s 16s/step - loss: 36916.2188 - PSNR: 15.0586\n",
            "Epoch 15/100\n",
            "1/1 [==============================] - 16s 16s/step - loss: 34844.3984 - PSNR: 14.9779\n",
            "Epoch 16/100\n",
            "1/1 [==============================] - 16s 16s/step - loss: 38862.9375 - PSNR: 14.6941\n",
            "Epoch 17/100\n",
            "1/1 [==============================] - 26s 26s/step - loss: 43805.0117 - PSNR: 13.9388\n",
            "Epoch 18/100\n",
            "1/1 [==============================] - 32s 32s/step - loss: 46914.3750 - PSNR: 13.4982\n",
            "Epoch 19/100\n",
            "1/1 [==============================] - 37s 37s/step - loss: 47294.0117 - PSNR: 13.4523\n",
            "Epoch 20/100\n",
            "1/1 [==============================] - 19s 19s/step - loss: 45044.7266 - PSNR: 13.7755\n",
            "Epoch 21/100\n",
            "1/1 [==============================] - 17s 17s/step - loss: 41034.4336 - PSNR: 14.3811\n",
            "Epoch 22/100\n",
            "1/1 [==============================] - 17s 17s/step - loss: 36763.9727 - PSNR: 14.8721\n",
            "Epoch 23/100\n",
            "1/1 [==============================] - 16s 16s/step - loss: 34314.4219 - PSNR: 15.1082\n",
            "Epoch 24/100\n",
            "1/1 [==============================] - 16s 16s/step - loss: 35262.9180 - PSNR: 15.2310\n",
            "Epoch 25/100\n",
            "1/1 [==============================] - 16s 16s/step - loss: 38186.2578 - PSNR: 15.0296\n",
            "Epoch 26/100\n",
            "1/1 [==============================] - 16s 16s/step - loss: 39894.5781 - PSNR: 14.8481\n",
            "Epoch 27/100\n",
            "1/1 [==============================] - 16s 16s/step - loss: 38014.2656 - PSNR: 15.0340\n",
            "Epoch 28/100\n",
            "1/1 [==============================] - 16s 16s/step - loss: 35359.0625 - PSNR: 15.2603\n",
            "Epoch 29/100\n",
            "1/1 [==============================] - 16s 16s/step - loss: 33732.0000 - PSNR: 15.3905\n",
            "Epoch 30/100\n",
            "1/1 [==============================] - 16s 16s/step - loss: 33502.4883 - PSNR: 15.3348\n",
            "Epoch 31/100\n",
            "1/1 [==============================] - 22s 22s/step - loss: 34005.1719 - PSNR: 15.2016\n",
            "Epoch 32/100\n",
            "1/1 [==============================] - 16s 16s/step - loss: 34503.4922 - PSNR: 15.1421\n",
            "Epoch 33/100\n",
            "1/1 [==============================] - 16s 16s/step - loss: 34518.8125 - PSNR: 15.1438\n",
            "Epoch 34/100\n",
            "1/1 [==============================] - 16s 16s/step - loss: 34036.3867 - PSNR: 15.2129\n",
            "Epoch 35/100\n",
            "1/1 [==============================] - 16s 16s/step - loss: 33421.8555 - PSNR: 15.3728\n",
            "Epoch 36/100\n",
            "1/1 [==============================] - 18s 18s/step - loss: 33118.5781 - PSNR: 15.5323\n",
            "Epoch 37/100\n",
            "1/1 [==============================] - 16s 16s/step - loss: 33260.7500 - PSNR: 15.5868\n",
            "Epoch 38/100\n",
            "1/1 [==============================] - 16s 16s/step - loss: 33719.2383 - PSNR: 15.5803\n",
            "Epoch 39/100\n",
            "1/1 [==============================] - 16s 16s/step - loss: 33338.5312 - PSNR: 15.6229\n",
            "Epoch 40/100\n",
            "1/1 [==============================] - 16s 16s/step - loss: 32653.2812 - PSNR: 15.6758\n",
            "Epoch 41/100\n",
            "1/1 [==============================] - 16s 16s/step - loss: 32447.0664 - PSNR: inf\n",
            "Epoch 42/100\n",
            "1/1 [==============================] - 16s 16s/step - loss: 32384.0586 - PSNR: 15.6484\n",
            "Epoch 43/100\n",
            "1/1 [==============================] - 16s 16s/step - loss: 32385.0312 - PSNR: 15.6140\n",
            "Epoch 44/100\n",
            "1/1 [==============================] - 16s 16s/step - loss: 32208.2246 - PSNR: 15.6429\n",
            "Epoch 45/100\n",
            "1/1 [==============================] - 16s 16s/step - loss: 31916.3008 - PSNR: 15.7243\n",
            "Epoch 46/100\n",
            "1/1 [==============================] - 16s 16s/step - loss: 31664.6504 - PSNR: 15.8086\n",
            "Epoch 47/100\n",
            "1/1 [==============================] - 16s 16s/step - loss: 31576.5996 - PSNR: 15.8428\n",
            "Epoch 48/100\n",
            "1/1 [==============================] - 16s 16s/step - loss: 31727.7031 - PSNR: 15.8185\n",
            "Epoch 49/100\n",
            "1/1 [==============================] - 16s 16s/step - loss: 31451.6719 - PSNR: 15.8685\n",
            "Epoch 50/100\n",
            "1/1 [==============================] - 16s 16s/step - loss: 31080.9629 - PSNR: 15.9381\n",
            "Epoch 51/100\n",
            "1/1 [==============================] - 16s 16s/step - loss: 30870.3750 - PSNR: 15.9687\n",
            "Epoch 52/100\n",
            "1/1 [==============================] - 17s 17s/step - loss: 30760.7344 - PSNR: 15.9864\n",
            "Epoch 53/100\n",
            "1/1 [==============================] - 16s 16s/step - loss: 30565.6289 - PSNR: 16.0280\n",
            "Epoch 54/100\n",
            "1/1 [==============================] - 16s 16s/step - loss: 30281.1309 - PSNR: 16.0948\n",
            "Epoch 55/100\n",
            "1/1 [==============================] - 16s 16s/step - loss: 30043.2598 - PSNR: 16.1391\n",
            "Epoch 56/100\n",
            "1/1 [==============================] - 16s 16s/step - loss: 29804.3184 - PSNR: 16.1732\n",
            "Epoch 57/100\n",
            "1/1 [==============================] - 16s 16s/step - loss: 29521.9883 - PSNR: 16.1917\n",
            "Epoch 58/100\n",
            "1/1 [==============================] - 16s 16s/step - loss: 29078.2930 - PSNR: 16.2519\n",
            "Epoch 59/100\n",
            "1/1 [==============================] - 16s 16s/step - loss: 28752.2656 - PSNR: 16.3056\n",
            "Epoch 60/100\n",
            "1/1 [==============================] - 16s 16s/step - loss: 28540.3789 - PSNR: 16.3373\n",
            "Epoch 61/100\n",
            "1/1 [==============================] - 16s 16s/step - loss: 28223.3340 - PSNR: 16.3789\n",
            "Epoch 62/100\n",
            "1/1 [==============================] - 16s 16s/step - loss: 27824.7148 - PSNR: 16.4169\n",
            "Epoch 63/100\n",
            "1/1 [==============================] - 17s 17s/step - loss: 27468.6133 - PSNR: 16.4357\n",
            "Epoch 64/100\n",
            "1/1 [==============================] - 16s 16s/step - loss: 27128.2500 - PSNR: 16.4533\n",
            "Epoch 65/100\n",
            "1/1 [==============================] - 16s 16s/step - loss: 26702.4629 - PSNR: 16.5175\n",
            "Epoch 66/100\n",
            "1/1 [==============================] - 16s 16s/step - loss: 26282.0742 - PSNR: 16.6050\n",
            "Epoch 67/100\n",
            "1/1 [==============================] - 16s 16s/step - loss: 25899.0156 - PSNR: inf\n",
            "Epoch 68/100\n",
            "1/1 [==============================] - 16s 16s/step - loss: 25532.1797 - PSNR: 16.6199\n",
            "Epoch 69/100\n",
            "1/1 [==============================] - 16s 16s/step - loss: 25204.3496 - PSNR: 16.5799\n",
            "Epoch 70/100\n",
            "1/1 [==============================] - 16s 16s/step - loss: 24855.7617 - PSNR: inf\n",
            "Epoch 71/100\n",
            "1/1 [==============================] - 16s 16s/step - loss: 24562.1484 - PSNR: 16.6515\n",
            "Epoch 72/100\n",
            "1/1 [==============================] - 16s 16s/step - loss: 24327.4902 - PSNR: 16.6251\n",
            "Epoch 73/100\n",
            "1/1 [==============================] - 16s 16s/step - loss: 24123.7793 - PSNR: inf\n",
            "Epoch 74/100\n",
            "1/1 [==============================] - 16s 16s/step - loss: 23988.0801 - PSNR: 16.3649\n",
            "Epoch 75/100\n",
            "1/1 [==============================] - 16s 16s/step - loss: 23856.4531 - PSNR: 16.3824\n",
            "Epoch 76/100\n",
            "1/1 [==============================] - 16s 16s/step - loss: 23776.9785 - PSNR: 16.4112\n",
            "Epoch 77/100\n",
            "1/1 [==============================] - 16s 16s/step - loss: 23713.5996 - PSNR: 16.3542\n",
            "Epoch 78/100\n",
            "1/1 [==============================] - 16s 16s/step - loss: 23694.5859 - PSNR: 16.2392\n",
            "Epoch 79/100\n",
            "1/1 [==============================] - 16s 16s/step - loss: 23698.2324 - PSNR: 16.2021\n",
            "Epoch 80/100\n",
            "1/1 [==============================] - 16s 16s/step - loss: 23707.9805 - PSNR: 16.1918\n",
            "Epoch 81/100\n",
            "1/1 [==============================] - 16s 16s/step - loss: 23715.0625 - PSNR: 16.1656\n",
            "Epoch 82/100\n",
            "1/1 [==============================] - 16s 16s/step - loss: 23698.7422 - PSNR: 16.1535\n",
            "Epoch 83/100\n",
            "1/1 [==============================] - 16s 16s/step - loss: 23668.2871 - PSNR: 16.1768\n",
            "Epoch 84/100\n",
            "1/1 [==============================] - 16s 16s/step - loss: 23594.0176 - PSNR: inf\n",
            "Epoch 85/100\n",
            "1/1 [==============================] - 16s 16s/step - loss: 23510.9805 - PSNR: 16.3472\n",
            "Epoch 86/100\n",
            "1/1 [==============================] - 22s 22s/step - loss: 23425.0605 - PSNR: 16.3927\n",
            "Epoch 87/100\n",
            "1/1 [==============================] - 17s 17s/step - loss: 23370.5215 - PSNR: 16.4172\n",
            "Epoch 88/100\n",
            "1/1 [==============================] - 16s 16s/step - loss: 23321.0195 - PSNR: 16.5062\n",
            "Epoch 89/100\n",
            "1/1 [==============================] - 16s 16s/step - loss: 23292.2285 - PSNR: 16.5800\n",
            "Epoch 90/100\n",
            "1/1 [==============================] - 16s 16s/step - loss: 23259.8379 - PSNR: 16.5840\n",
            "Epoch 91/100\n",
            "1/1 [==============================] - 30s 30s/step - loss: 23235.7578 - PSNR: 16.5630\n",
            "Epoch 92/100\n",
            "1/1 [==============================] - 32s 32s/step - loss: 23205.1484 - PSNR: 16.6128\n",
            "Epoch 93/100\n",
            "1/1 [==============================] - 25s 25s/step - loss: 23176.7148 - PSNR: 16.6852\n",
            "Epoch 94/100\n",
            "1/1 [==============================] - 16s 16s/step - loss: 23142.6738 - PSNR: 16.6941\n",
            "Epoch 95/100\n",
            "1/1 [==============================] - 16s 16s/step - loss: 23106.3262 - PSNR: 16.6563\n",
            "Epoch 96/100\n",
            "1/1 [==============================] - 17s 17s/step - loss: 23070.1055 - PSNR: 16.6608\n",
            "Epoch 97/100\n",
            "1/1 [==============================] - 20s 20s/step - loss: 23034.9316 - PSNR: 16.7103\n",
            "Epoch 98/100\n",
            "1/1 [==============================] - 28s 28s/step - loss: 23007.3633 - PSNR: 16.7300\n",
            "Epoch 99/100\n",
            "1/1 [==============================] - 16s 16s/step - loss: 22982.5312 - PSNR: 16.7009\n",
            "Epoch 100/100\n",
            "1/1 [==============================] - 16s 16s/step - loss: 22963.8418 - PSNR: 16.6819\n"
          ]
        },
        {
          "data": {
            "text/plain": [
              "<keras.callbacks.History at 0x2c1c5733880>"
            ]
          },
          "execution_count": 19,
          "metadata": {},
          "output_type": "execute_result"
        }
      ],
      "source": [
        "import tensorflow as tf\n",
        "from math import log10, sqrt\n",
        "from keras import backend as K\n",
        "import torch\n",
        "def PSNR(y_true, y_pred):\n",
        "    max_pixel = 500.0\n",
        "    return (10.0 * K.log((max_pixel ** 2) / (K.mean(K.square(y_pred - y_true), axis=-1)))) / 2.303\n",
        "\n",
        "def my_metric_fn(y_true, y_pred):\n",
        "    squared_difference = tf.square(y_true - y_pred)\n",
        "    return tf.reduce_mean(squared_difference, axis=-1)  # Note the `axis=-1`\n",
        "\n",
        "bpnet.compile(optimizer='adam', loss='mse', metrics=[PSNR])\n",
        "\n",
        "x = train*500.0\n",
        "#print(x)\n",
        "# h = cnn.fit(x=train, y=valid, epochs=epochs)\n",
        "bpnet.fit(x,y=b,epochs=100)"
      ]
    },
    {
      "cell_type": "code",
      "execution_count": null,
      "metadata": {},
      "outputs": [],
      "source": [
        "# t=mat73.loadmat('data (5).mat')['rad']\n",
        "t=np.expand_dims(np.resize(mat73.loadmat('data (5).mat')['rad'],(64,64,31)), axis=0)"
      ]
    },
    {
      "cell_type": "code",
      "execution_count": 60,
      "metadata": {},
      "outputs": [
        {
          "name": "stdout",
          "output_type": "stream",
          "text": [
            "1/1 [==============================] - 0s 294ms/step\n"
          ]
        }
      ],
      "source": [
        "# print(type(b1))\n",
        "y_pred=bpnet.predict(test_rgb)\n",
        "# y_pred=y_pred[0]"
      ]
    },
    {
      "cell_type": "code",
      "execution_count": 61,
      "metadata": {},
      "outputs": [
        {
          "data": {
            "text/plain": [
              "numpy.ndarray"
            ]
          },
          "execution_count": 61,
          "metadata": {},
          "output_type": "execute_result"
        }
      ],
      "source": [
        "y=y_pred*500\n",
        "type(y)"
      ]
    },
    {
      "cell_type": "code",
      "execution_count": 62,
      "metadata": {},
      "outputs": [
        {
          "data": {
            "text/plain": [
              "(500, 500, 1)"
            ]
          },
          "execution_count": 62,
          "metadata": {},
          "output_type": "execute_result"
        }
      ],
      "source": [
        "y=np.squeeze(y,axis=1)\n",
        "y=np.squeeze(y,axis=0)\n",
        "y.shape"
      ]
    },
    {
      "cell_type": "code",
      "execution_count": 72,
      "metadata": {},
      "outputs": [
        {
          "data": {
            "text/plain": [
              "array([[[-1.45656145e+01],\n",
              "        [ 1.61368103e+01],\n",
              "        [ 4.36794586e+01],\n",
              "        ...,\n",
              "        [-4.14824168e+01],\n",
              "        [-9.67737122e+01],\n",
              "        [-9.35993195e+01]],\n",
              "\n",
              "       [[-5.37127770e+01],\n",
              "        [-1.80086365e+01],\n",
              "        [ 1.63787842e-01],\n",
              "        ...,\n",
              "        [-1.36107483e+01],\n",
              "        [-1.68647156e+01],\n",
              "        [-6.40231323e+01]],\n",
              "\n",
              "       [[-6.78508911e+01],\n",
              "        [ 1.23267212e+01],\n",
              "        [ 2.23689514e+02],\n",
              "        ...,\n",
              "        [ 6.24442139e+01],\n",
              "        [ 2.55071350e+02],\n",
              "        [ 1.66208618e+02]],\n",
              "\n",
              "       ...,\n",
              "\n",
              "       [[ 4.34103326e+01],\n",
              "        [ 1.08560913e+02],\n",
              "        [ 1.48540070e+02],\n",
              "        ...,\n",
              "        [ 2.13042053e+02],\n",
              "        [ 1.95663818e+02],\n",
              "        [ 7.56623535e+01]],\n",
              "\n",
              "       [[-7.23629150e+01],\n",
              "        [-1.06546021e+00],\n",
              "        [ 2.14931000e+02],\n",
              "        ...,\n",
              "        [ 2.49438995e+02],\n",
              "        [ 2.67119629e+02],\n",
              "        [ 1.62800781e+02]],\n",
              "\n",
              "       [[ 1.99725037e+01],\n",
              "        [ 1.22588623e+02],\n",
              "        [ 1.65792999e+02],\n",
              "        ...,\n",
              "        [ 1.77387787e+02],\n",
              "        [ 1.10854858e+02],\n",
              "        [-4.17196655e+00]]])"
            ]
          },
          "execution_count": 72,
          "metadata": {},
          "output_type": "execute_result"
        }
      ],
      "source": [
        "y-test_band1"
      ]
    },
    {
      "cell_type": "code",
      "execution_count": 78,
      "metadata": {},
      "outputs": [
        {
          "data": {
            "image/png": "[encoded data removed]",
            "text/plain": [
              "<Figure size 432x288 with 1 Axes>"
            ]
          },
          "metadata": {
            "needs_background": "light"
          },
          "output_type": "display_data"
        }
      ],
      "source": [
        "# data = np.zeros( (512,512,3), dtype=np.uint8)\n",
        "# data[256,256] = [255,0,0]\n",
        "plt.imshow(test_band1)\n",
        "plt.show()"
      ]
    },
    {
      "cell_type": "markdown",
      "metadata": {},
      "source": [
        "##\n",
        "RF-NET"
      ]
    },
    {
      "cell_type": "code",
      "execution_count": 19,
      "metadata": {},
      "outputs": [],
      "source": [
        "cnn2 = keras.Sequential()\n",
        "cnn2.add(Conv3D(16,3,activation='relu',input_shape=(1,64,64,31),padding='same',use_bias=True,dilation_rate=(3,1,1)))\n",
        "cnn2.add(Conv3D(31,1,activation='relu',input_shape=(16,64,64,31),use_bias=True,dilation_rate=(3,1,1)))\n",
        "cnn2.add(Conv3D(31,1,activation='relu',input_shape=(1,64,64,31)))"
      ]
    },
    {
      "cell_type": "code",
      "execution_count": null,
      "metadata": {},
      "outputs": [],
      "source": [
        "cnn2.summary()"
      ]
    },
    {
      "cell_type": "markdown",
      "metadata": {},
      "source": [
        "ACCURACY"
      ]
    },
    {
      "cell_type": "code",
      "execution_count": null,
      "metadata": {},
      "outputs": [],
      "source": [
        "fig, (ax1, ax2) = plt.subplots(1,2, figsize=(14, 7))\n",
        "ax1.grid() \n",
        "ax1.plot(h.history['loss'])\n",
        "ax1.set_ylabel('Loss') \n",
        "ax1.set_xlabel('Epochs') \n",
        "ax1.legend(['Training','Validation'], loc='upper right') \n",
        "\n",
        "ax2.set_ylim(np.min(h.history['accuracy']),1.05) \n",
        "ax2.grid() \n",
        "ax2.plot(h.history['accuracy'])\n",
        "ax2.set_ylabel('Accuracy') \n",
        "ax2.set_xlabel('Epochs') \n",
        "ax2.legend(['Training','Validation']) \n",
        "plt.show() "
      ]
    },
    {
      "cell_type": "code",
      "execution_count": null,
      "metadata": {},
      "outputs": [],
      "source": []
    }
  ],
  "metadata": {
    "colab": {
      "collapsed_sections": [],
      "provenance": []
    },
    "kernelspec": {
      "display_name": "Python 3.9.0 64-bit",
      "language": "python",
      "name": "python3"
    },
    "language_info": {
      "codemirror_mode": {
        "name": "ipython",
        "version": 3
      },
      "file_extension": ".py",
      "mimetype": "text/x-python",
      "name": "python",
      "nbconvert_exporter": "python",
      "pygments_lexer": "ipython3",
      "version": "3.9.0"
    },
    "vscode": {
      "interpreter": {
        "hash": "475ec4b6363fc2460192c3aeb6c516f3ff16c4c7d48684e503009e7cba445f44"
      }
    }
  },
  "nbformat": 4,
  "nbformat_minor": 0
}
