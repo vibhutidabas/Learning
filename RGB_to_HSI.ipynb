{
  "nbformat": 4,
  "nbformat_minor": 0,
  "metadata": {
    "colab": {
      "name": "RGB_to_HSI.ipynb",
      "provenance": [],
      "collapsed_sections": [],
      "mount_file_id": "1rju8IwKNTr0Xi6qJMaallguel07cTGvw",
      "authorship_tag": "ABX9TyNZbCxCznhTlaoW+hO1yA99",
      "include_colab_link": true
    },
    "kernelspec": {
      "name": "python3",
      "display_name": "Python 3"
    },
    "language_info": {
      "name": "python"
    }
  },
  "cells": [
    {
      "cell_type": "markdown",
      "metadata": {
        "id": "view-in-github",
        "colab_type": "text"
      },
      "source": [
        "<a href=\"https://colab.research.google.com/github/vibhutidabas/Learning/blob/main/RGB_to_HSI.ipynb\" target=\"_parent\"><img src=\"https://colab.research.google.com/assets/colab-badge.svg\" alt=\"Open In Colab\"/></a>"
      ]
    },
    {
      "cell_type": "code",
      "source": [
        "#reading a mat file\n",
        "import h5py\n",
        "import numpy as np\n",
        "filepath = '/content/drive/MyDrive/train/bgu_0403-1439.mat'\n",
        "arrays = {}\n",
        "f = h5py.File(filepath)\n",
        "for k, v in f.items():\n",
        "    arrays[k] = np.array(v)"
      ],
      "metadata": {
        "id": "25Q3QT-k6tW8"
      },
      "execution_count": null,
      "outputs": []
    },
    {
      "cell_type": "code",
      "source": [
        "print(arrays['rgb'].shape)\n",
        "print(arrays['bands'].shape)\n",
        "arrays['rad'].shape"
      ],
      "metadata": {
        "colab": {
          "base_uri": "https://localhost:8080/"
        },
        "id": "5eVPGCDK6t2-",
        "outputId": "da51f8a3-520f-41af-c6cb-0a40f913516c"
      },
      "execution_count": null,
      "outputs": [
        {
          "output_type": "stream",
          "name": "stdout",
          "text": [
            "(3, 1305, 1392)\n",
            "(31, 1)\n"
          ]
        },
        {
          "output_type": "execute_result",
          "data": {
            "text/plain": [
              "(31, 1392, 1300)"
            ]
          },
          "metadata": {},
          "execution_count": 79
        }
      ]
    },
    {
      "cell_type": "code",
      "source": [
        "import tensorflow  as tf\n",
        "from tensorflow import keras\n",
        "from keras.layers import Conv3D\n",
        "\n",
        "#making the BP-net\n",
        "\n",
        "cnn = keras.Sequential()\n",
        "cnn.add(Conv3D(16,(3,5,5), activation='relu', input_shape=(1,64,64,3),padding='same',use_bias=True))\n",
        "cnn.add(Conv3D(32, 3, activation='relu', input_shape=(32,64,64,3), padding='same', use_bias=True))\n",
        "cnn.add(Conv3D(64, 3, activation='relu', input_shape=(32,64,64,3), padding='same', use_bias=True))\n",
        "\n",
        "# cnn.add(Conv3D(128,3,,input_shape=(32,64,64,3),use_bias=True,padding='same'))  #I will have to make 31 layers for 31 bands"
      ],
      "metadata": {
        "id": "qdcZV-d36viJ"
      },
      "execution_count": null,
      "outputs": []
    },
    {
      "cell_type": "code",
      "source": [
        "#RF-net\n",
        "b=31     #no. of bands\n",
        "cnn2 = keras.Sequential()\n",
        "cnn2.add(Conv3D(16,3,activation='relu',input_shape=(1,64,64,b),padding='same',use_bias=True,dilation_rate=(3,1,1)))\n",
        "cnn2.add(Conv3D(32,1,activation='relu',input_shape=(16,64,64,b),use_bias=True))\n",
        "cnn2.add(Conv3D(64,1,input_shape=(1,64,64,b)))"
      ],
      "metadata": {
        "id": "NoCOjuCz6xkO"
      },
      "execution_count": null,
      "outputs": []
    },
    {
      "cell_type": "markdown",
      "source": [
        "## *Model Start* "
      ],
      "metadata": {
        "id": "QBO2w6lPLjpd"
      }
    },
    {
      "cell_type": "markdown",
      "source": [
        "Load Data"
      ],
      "metadata": {
        "id": "GkxAks_HZJZh"
      }
    },
    {
      "cell_type": "code",
      "source": [
        "import cv2\n",
        "import os\n",
        "from skimage.io import imread_collection, imshow_collection\n",
        "\n",
        "# images=[]\n",
        "folder = \"/content/drive/MyDrive/cave/*/*.png\"\n",
        "rgb = \"/content/drive/MyDrive/cave/*/*.bmp\"\n",
        "# for filename in os.listdir(folder):\n",
        "#   img = cv2.imread(os.path.join(folder,filename))\n",
        "#   if img is not None:\n",
        "#     images.append(img)\n",
        "RGB = imread_collection(rgb)\n",
        "img = imread_collection(folder)\n",
        "# images[19].resize(64,64,3)\n",
        "# img.shape\n",
        "len(RGB)"
      ],
      "metadata": {
        "id": "f0uehrXea-Ij",
        "colab": {
          "base_uri": "https://localhost:8080/"
        },
        "outputId": "e6bbe93f-15fe-43cc-c19c-5fb74e0eb42c"
      },
      "execution_count": null,
      "outputs": [
        {
          "output_type": "execute_result",
          "data": {
            "text/plain": [
              "0"
            ]
          },
          "metadata": {},
          "execution_count": 46
        }
      ]
    },
    {
      "cell_type": "code",
      "source": [
        "imshow_collection(RGB)"
      ],
      "metadata": {
        "id": "vYMwtzgydAdm"
      },
      "execution_count": null,
      "outputs": []
    },
    {
      "cell_type": "markdown",
      "source": [
        "Train Test Split"
      ],
      "metadata": {
        "id": "xzhCZSq6dep9"
      }
    },
    {
      "cell_type": "code",
      "source": [
        "data_dict = {\n",
        "        'IP': ('/content/drive/MyDrive/train/BGU_0522-1203.mat', 'indian_pines_corrected', 'Indian_pines_gt.mat', 'indian_pines_gt'),\n",
        "        'SA': ('Salinas_corrected.mat', 'salinas_corrected', 'Salinas_gt.mat', 'salinas_gt'),\n",
        "        'PU': ('PaviaU.mat', 'paviaU', 'PaviaU_gt.mat', 'paviaU_gt')\n",
        "    }\n",
        "(X_1, X_2, y_1, y_2) = data_dict.get(dataset[0:2].upper())\n",
        "X = sio.loadmat(os.path.join(data_path, X_1))[X_2]\n",
        "y = sio.loadmat(os.path.join(data_path, y_1))[y_2]\n",
        "    \n",
        "return (X, y)"
      ],
      "metadata": {
        "id": "8dy1Ip5qDl0m"
      },
      "execution_count": null,
      "outputs": []
    },
    {
      "cell_type": "code",
      "source": [
        "from skimage.io.collection import imread_collection_wrapper\n",
        "import os\n",
        "import glob\n",
        "import numpy as np\n",
        "from PIL import Image\n",
        "import cv2\n",
        "import matplotlib.pyplot as plt\n",
        "from google.colab.patches import cv2_imshow\n",
        "\n",
        "\n",
        "# Read all dataset\n",
        "dataset = {}\n",
        "for target_name in os.listdir('/content/drive/MyDrive/cave data/'):\n",
        "    filenames = sorted(os.listdir('/content/drive/MyDrive/cave data/'+ target_name + '/'))\n",
        "    dataset[target_name]= \n",
        "    \n",
        "dataset['balloons_ms']\n",
        "# cv2_imshow(dataset.values())\n",
        "# img=cv2.imread('/content/drive/MyDrive/cave data/balloons_ms/balloons_RGB.bmp')\n",
        "# cv2_imshow(img)\n"
      ],
      "metadata": {
        "colab": {
          "base_uri": "https://localhost:8080/",
          "height": 235
        },
        "id": "nRoML7MDdhyu",
        "outputId": "dbcfc402-0501-4bfd-be9c-8eda65f9dae4"
      },
      "execution_count": null,
      "outputs": [
        {
          "output_type": "error",
          "ename": "SystemError",
          "evalue": "ignored",
          "traceback": [
            "\u001b[0;31m---------------------------------------------------------------------------\u001b[0m",
            "\u001b[0;31mSystemError\u001b[0m                               Traceback (most recent call last)",
            "\u001b[0;32m<ipython-input-3-e0805a12b18d>\u001b[0m in \u001b[0;36m<module>\u001b[0;34m()\u001b[0m\n\u001b[1;32m     13\u001b[0m \u001b[0;32mfor\u001b[0m \u001b[0mtarget_name\u001b[0m \u001b[0;32min\u001b[0m \u001b[0mos\u001b[0m\u001b[0;34m.\u001b[0m\u001b[0mlistdir\u001b[0m\u001b[0;34m(\u001b[0m\u001b[0;34m'/content/drive/MyDrive/cave data/'\u001b[0m\u001b[0;34m)\u001b[0m\u001b[0;34m:\u001b[0m\u001b[0;34m\u001b[0m\u001b[0;34m\u001b[0m\u001b[0m\n\u001b[1;32m     14\u001b[0m     \u001b[0mfilenames\u001b[0m \u001b[0;34m=\u001b[0m \u001b[0msorted\u001b[0m\u001b[0;34m(\u001b[0m\u001b[0mos\u001b[0m\u001b[0;34m.\u001b[0m\u001b[0mlistdir\u001b[0m\u001b[0;34m(\u001b[0m\u001b[0;34m'/content/drive/MyDrive/cave data/'\u001b[0m\u001b[0;34m+\u001b[0m \u001b[0mtarget_name\u001b[0m \u001b[0;34m+\u001b[0m \u001b[0;34m'/'\u001b[0m\u001b[0;34m)\u001b[0m\u001b[0;34m)\u001b[0m\u001b[0;34m\u001b[0m\u001b[0;34m\u001b[0m\u001b[0m\n\u001b[0;32m---> 15\u001b[0;31m     \u001b[0mdataset\u001b[0m\u001b[0;34m[\u001b[0m\u001b[0mtarget_name\u001b[0m\u001b[0;34m]\u001b[0m\u001b[0;34m=\u001b[0m \u001b[0mcv2\u001b[0m\u001b[0;34m.\u001b[0m\u001b[0mimread\u001b[0m\u001b[0;34m(\u001b[0m\u001b[0;34m[\u001b[0m\u001b[0mcv2\u001b[0m\u001b[0;34m.\u001b[0m\u001b[0mimread\u001b[0m\u001b[0;34m(\u001b[0m\u001b[0mf\u001b[0m\u001b[0;34m)\u001b[0m \u001b[0;32mfor\u001b[0m \u001b[0mf\u001b[0m \u001b[0;32min\u001b[0m \u001b[0mfilenames\u001b[0m\u001b[0;34m]\u001b[0m\u001b[0;34m)\u001b[0m\u001b[0;34m\u001b[0m\u001b[0;34m\u001b[0m\u001b[0m\n\u001b[0m\u001b[1;32m     16\u001b[0m \u001b[0;34m\u001b[0m\u001b[0m\n\u001b[1;32m     17\u001b[0m \u001b[0mdataset\u001b[0m\u001b[0;34m[\u001b[0m\u001b[0;34m'balloons_ms'\u001b[0m\u001b[0;34m]\u001b[0m\u001b[0;34m\u001b[0m\u001b[0;34m\u001b[0m\u001b[0m\n",
            "\u001b[0;31mSystemError\u001b[0m: <built-in function imread> returned NULL without setting an error"
          ]
        }
      ]
    },
    {
      "cell_type": "code",
      "source": [
        "dataset2 = {}\n",
        "\n",
        "for target in sorted(glob.glob(\"/content/drive/MyDrive/cave data/*\")):\n",
        "    target_name = target.split('/')[-1]\n",
        "    filenames = sorted(glob.glob(target + '/*'))\n",
        "    dataset[target_name] = np.array([np.array(Image.open(f)) for f in filenames],dtype=object).transpose(1,2,0)\n",
        "dataset.keys()    "
      ],
      "metadata": {
        "colab": {
          "base_uri": "https://localhost:8080/",
          "height": 217
        },
        "id": "kA6UCabjzUTO",
        "outputId": "3369f00d-668b-4864-e012-0496aa780279"
      },
      "execution_count": null,
      "outputs": [
        {
          "output_type": "error",
          "ename": "ValueError",
          "evalue": "ignored",
          "traceback": [
            "\u001b[0;31m---------------------------------------------------------------------------\u001b[0m",
            "\u001b[0;31mValueError\u001b[0m                                Traceback (most recent call last)",
            "\u001b[0;32m<ipython-input-100-e7305def1101>\u001b[0m in \u001b[0;36m<module>\u001b[0;34m()\u001b[0m\n\u001b[1;32m      4\u001b[0m     \u001b[0mtarget_name\u001b[0m \u001b[0;34m=\u001b[0m \u001b[0mtarget\u001b[0m\u001b[0;34m.\u001b[0m\u001b[0msplit\u001b[0m\u001b[0;34m(\u001b[0m\u001b[0;34m'/'\u001b[0m\u001b[0;34m)\u001b[0m\u001b[0;34m[\u001b[0m\u001b[0;34m-\u001b[0m\u001b[0;36m1\u001b[0m\u001b[0;34m]\u001b[0m\u001b[0;34m\u001b[0m\u001b[0;34m\u001b[0m\u001b[0m\n\u001b[1;32m      5\u001b[0m     \u001b[0mfilenames\u001b[0m \u001b[0;34m=\u001b[0m \u001b[0msorted\u001b[0m\u001b[0;34m(\u001b[0m\u001b[0mglob\u001b[0m\u001b[0;34m.\u001b[0m\u001b[0mglob\u001b[0m\u001b[0;34m(\u001b[0m\u001b[0mtarget\u001b[0m \u001b[0;34m+\u001b[0m \u001b[0;34m'/*'\u001b[0m\u001b[0;34m)\u001b[0m\u001b[0;34m)\u001b[0m\u001b[0;34m\u001b[0m\u001b[0;34m\u001b[0m\u001b[0m\n\u001b[0;32m----> 6\u001b[0;31m     \u001b[0mdataset\u001b[0m\u001b[0;34m[\u001b[0m\u001b[0mtarget_name\u001b[0m\u001b[0;34m]\u001b[0m \u001b[0;34m=\u001b[0m \u001b[0mnp\u001b[0m\u001b[0;34m.\u001b[0m\u001b[0marray\u001b[0m\u001b[0;34m(\u001b[0m\u001b[0;34m[\u001b[0m\u001b[0mnp\u001b[0m\u001b[0;34m.\u001b[0m\u001b[0marray\u001b[0m\u001b[0;34m(\u001b[0m\u001b[0mImage\u001b[0m\u001b[0;34m.\u001b[0m\u001b[0mopen\u001b[0m\u001b[0;34m(\u001b[0m\u001b[0mf\u001b[0m\u001b[0;34m)\u001b[0m\u001b[0;34m)\u001b[0m \u001b[0;32mfor\u001b[0m \u001b[0mf\u001b[0m \u001b[0;32min\u001b[0m \u001b[0mfilenames\u001b[0m\u001b[0;34m]\u001b[0m\u001b[0;34m,\u001b[0m\u001b[0mdtype\u001b[0m\u001b[0;34m=\u001b[0m\u001b[0mobject\u001b[0m\u001b[0;34m)\u001b[0m\u001b[0;34m.\u001b[0m\u001b[0mtranspose\u001b[0m\u001b[0;34m(\u001b[0m\u001b[0;36m1\u001b[0m\u001b[0;34m,\u001b[0m\u001b[0;36m2\u001b[0m\u001b[0;34m,\u001b[0m\u001b[0;36m0\u001b[0m\u001b[0;34m)\u001b[0m\u001b[0;34m\u001b[0m\u001b[0;34m\u001b[0m\u001b[0m\n\u001b[0m\u001b[1;32m      7\u001b[0m \u001b[0mdataset\u001b[0m\u001b[0;34m.\u001b[0m\u001b[0mkeys\u001b[0m\u001b[0;34m(\u001b[0m\u001b[0;34m)\u001b[0m\u001b[0;34m\u001b[0m\u001b[0;34m\u001b[0m\u001b[0m\n",
            "\u001b[0;31mValueError\u001b[0m: could not broadcast input array from shape (512,512,3) into shape (512,512)"
          ]
        }
      ]
    },
    {
      "cell_type": "code",
      "source": [
        "img = dataset[\"paints_ms\"];\n",
        "print(\"Size of HSI: (height, width, spectral) = \", img.shape)"
      ],
      "metadata": {
        "colab": {
          "base_uri": "https://localhost:8080/"
        },
        "id": "V9z4G-GVySwM",
        "outputId": "b7c2861d-4272-48d1-bf86-53080a9987fc"
      },
      "execution_count": null,
      "outputs": [
        {
          "output_type": "stream",
          "name": "stdout",
          "text": [
            "Size of HSI: (height, width, spectral) =  (32,)\n"
          ]
        }
      ]
    },
    {
      "cell_type": "markdown",
      "source": [
        "BP-Net"
      ],
      "metadata": {
        "id": "ViB4NP2sfMQ0"
      }
    },
    {
      "cell_type": "code",
      "source": [
        "import tensorflow  as tf\n",
        "from tensorflow import keras\n",
        "from keras.layers import Conv3D\n",
        "\n",
        "#making the BP-net\n",
        "\n",
        "cnn = keras.Sequential()\n",
        "cnn.add(Conv3D(16,(3,5,5), activation='relu', input_shape=(1,64,64,3),padding='same',use_bias=True))\n",
        "cnn.add(Conv3D(32, 3, activation='relu', input_shape=(32,64,64,3), padding='same', use_bias=True))\n",
        "cnn.add(Conv3D(64, 3, activation='relu', input_shape=(32,64,64,3), padding='same', use_bias=True))\n",
        "\n",
        "# cnn.add(Conv3D(16,3,input_shape=(32,64,64,3),use_bias=True,padding='same'))\n",
        "# cnn.add(Conv3D(16,3,input_shape=(32,64,64,3),use_bias=True,padding='same'))\n",
        "# cnn.add(Conv3D(16,3,input_shape=(32,64,64,3),use_bias=True,padding='same'))\n",
        "# cnn.add(Conv3D(16,3,input_shape=(32,64,64,3),use_bias=True,padding='same'))\n",
        "# cnn.add(Conv3D(16,3,input_shape=(32,64,64,3),use_bias=True,padding='same'))\n",
        "# cnn.add(Conv3D(16,3,input_shape=(32,64,64,3),use_bias=True,padding='same'))\n",
        "# cnn.add(Conv3D(16,3,input_shape=(32,64,64,3),use_bias=True,padding='same'))\n",
        "# cnn.add(Conv3D(16,3,input_shape=(32,64,64,3),use_bias=True,padding='same'))\n",
        "# cnn.add(Conv3D(16,3,input_shape=(32,64,64,3),use_bias=True,padding='same'))\n",
        "# cnn.add(Conv3D(16,3,input_shape=(32,64,64,3),use_bias=True,padding='same'))\n",
        "# cnn.add(Conv3D(16,3,input_shape=(32,64,64,3),use_bias=True,padding='same'))\n",
        "# cnn.add(Conv3D(16,3,input_shape=(32,64,64,3),use_bias=True,padding='same'))\n",
        "# cnn.add(Conv3D(16,3,input_shape=(32,64,64,3),use_bias=True,padding='same'))\n",
        "# cnn.add(Conv3D(16,3,input_shape=(32,64,64,3),use_bias=True,padding='same'))\n",
        "# cnn.add(Conv3D(16,3,input_shape=(32,64,64,3),use_bias=True,padding='same'))\n",
        "# cnn.add(Conv3D(16,3,input_shape=(32,64,64,3),use_bias=True,padding='same'))\n",
        "# cnn.add(Conv3D(16,3,input_shape=(32,64,64,3),use_bias=True,padding='same'))\n",
        "# cnn.add(Conv3D(16,3,input_shape=(32,64,64,3),use_bias=True,padding='same'))\n",
        "# cnn.add(Conv3D(16,3,input_shape=(32,64,64,3),use_bias=True,padding='same'))\n",
        "# cnn.add(Conv3D(16,3,input_shape=(32,64,64,3),use_bias=True,padding='same'))\n",
        "# cnn.add(Conv3D(16,3,input_shape=(32,64,64,3),use_bias=True,padding='same'))\n",
        "# cnn.add(Conv3D(16,3,input_shape=(32,64,64,3),use_bias=True,padding='same'))\n",
        "# cnn.add(Conv3D(16,3,input_shape=(32,64,64,3),use_bias=True,padding='same'))\n",
        "# cnn.add(Conv3D(16,3,input_shape=(32,64,64,3),use_bias=True,padding='same'))\n",
        "# cnn.add(Conv3D(16,3,input_shape=(32,64,64,3),use_bias=True,padding='same'))\n",
        "# cnn.add(Conv3D(16,3,input_shape=(32,64,64,3),use_bias=True,padding='same'))\n",
        "# cnn.add(Conv3D(16,3,input_shape=(32,64,64,3),use_bias=True,padding='same'))\n",
        "# cnn.add(Conv3D(16,3,input_shape=(32,64,64,3),use_bias=True,padding='same'))\n",
        "# cnn.add(Conv3D(16,3,input_shape=(32,64,64,3),use_bias=True,padding='same'))\n",
        "# cnn.add(Conv3D(16,3,input_shape=(32,64,64,3),use_bias=True,padding='same'))\n",
        "# cnn.add(Conv3D(16,3,input_shape=(32,64,64,3),use_bias=True,padding='same'))"
      ],
      "metadata": {
        "id": "L3oUwcxD6qs3"
      },
      "execution_count": null,
      "outputs": []
    },
    {
      "cell_type": "code",
      "source": [
        "import scipy.io as sio\n"
      ],
      "metadata": {
        "id": "r_s5wztm7Wk1"
      },
      "execution_count": null,
      "outputs": []
    }
  ]
}